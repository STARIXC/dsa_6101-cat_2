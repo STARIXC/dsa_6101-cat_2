{
 "cells": [
  {
   "cell_type": "code",
   "id": "initial_id",
   "metadata": {
    "collapsed": true,
    "ExecuteTime": {
     "end_time": "2025-06-11T12:56:54.127206Z",
     "start_time": "2025-06-11T12:56:54.123756Z"
    }
   },
   "source": [
    "import requests\n",
    "import pandas as pd"
   ],
   "outputs": [],
   "execution_count": 21
  },
  {
   "metadata": {
    "ExecuteTime": {
     "end_time": "2025-06-11T13:04:13.161561Z",
     "start_time": "2025-06-11T13:04:13.157602Z"
    }
   },
   "cell_type": "code",
   "source": [
    "# API configuration\n",
    "API_KEY = \"186ce27344ed40c9a4a164814250806\"  # Consider using environment variables for security\n",
    "BASE_URL = \"https://api.weatherapi.com/v1/current.json\"\n",
    "kenyan_cities = [\"Nairobi\", \"Mombasa\", \"Kisumu\", \"Nakuru\", \"Eldoret\"]"
   ],
   "id": "f341b5fda8f554bd",
   "outputs": [],
   "execution_count": 34
  },
  {
   "metadata": {
    "ExecuteTime": {
     "end_time": "2025-06-11T13:04:17.559216Z",
     "start_time": "2025-06-11T13:04:17.556482Z"
    }
   },
   "cell_type": "code",
   "source": [
    "# Initialize list to store weather data\n",
    "weather_data = []"
   ],
   "id": "b464f03a4cfa45ff",
   "outputs": [],
   "execution_count": 35
  },
  {
   "metadata": {
    "ExecuteTime": {
     "end_time": "2025-06-11T13:04:38.623729Z",
     "start_time": "2025-06-11T13:04:25.851239Z"
    }
   },
   "cell_type": "code",
   "source": [
    "for city in kenyan_cities:\n",
    "    try:\n",
    "        # Make API request\n",
    "        params = {\n",
    "            'key': API_KEY,\n",
    "            'q': city,\n",
    "            'aqi': 'no'\n",
    "        }\n",
    "        response = requests.get(BASE_URL, params=params)\n",
    "        response.raise_for_status()  # Raises an error for bad status codes\n",
    "\n",
    "        # Extract relevant data\n",
    "        data = response.json()\n",
    "        current = data['current']\n",
    "        location = data['location']\n",
    "\n",
    "        # Store cleaned data\n",
    "        weather_data.append({\n",
    "            'city': location['name'],\n",
    "            'region': location['region'],\n",
    "            'country': location['country'],\n",
    "            'local_time': location['localtime'],\n",
    "            'temp_c': current['temp_c'],\n",
    "            'temp_f': current['temp_f'],\n",
    "            'condition': current['condition']['text'],\n",
    "            'wind_kph': current['wind_kph'],\n",
    "            'humidity': current['humidity'],\n",
    "            'cloud': current['cloud']\n",
    "        })\n",
    "\n",
    "    except requests.exceptions.RequestException as e:\n",
    "        print(f\"Error fetching data for {city}: {e}\")\n",
    "    except KeyError as e:\n",
    "        print(f\"Unexpected data structure for {city}: {e}\")"
   ],
   "id": "a07d29ff43827d17",
   "outputs": [],
   "execution_count": 36
  },
  {
   "metadata": {
    "ExecuteTime": {
     "end_time": "2025-06-11T13:05:02.432116Z",
     "start_time": "2025-06-11T13:05:02.428043Z"
    }
   },
   "cell_type": "code",
   "source": [
    "# Convert to DataFrame\n",
    "weather_df = pd.DataFrame(weather_data)"
   ],
   "id": "5915284aecd84e75",
   "outputs": [],
   "execution_count": 37
  },
  {
   "metadata": {
    "ExecuteTime": {
     "end_time": "2025-06-11T13:05:15.463278Z",
     "start_time": "2025-06-11T13:05:15.453720Z"
    }
   },
   "cell_type": "code",
   "source": "weather_df",
   "id": "c8eb229328d0b761",
   "outputs": [
    {
     "data": {
      "text/plain": [
       "      city        region country        local_time  temp_c  temp_f  \\\n",
       "0  Nairobi  Nairobi Area   Kenya  2025-06-11 16:04    23.2    73.8   \n",
       "1  Mombasa         Coast   Kenya  2025-06-11 16:04    28.3    82.9   \n",
       "2   Kisumu        Nyanza   Kenya  2025-06-11 16:05    27.0    80.6   \n",
       "3   Nakuru   Rift Valley   Kenya  2025-06-11 16:04    25.2    77.4   \n",
       "4  Eldoret   Rift Valley   Kenya  2025-06-11 16:04    24.3    75.7   \n",
       "\n",
       "            condition  wind_kph  humidity  cloud  \n",
       "0       Partly cloudy      11.9        47     75  \n",
       "1       Partly cloudy      27.4        70     75  \n",
       "2  Patchy rain nearby       9.4        54     25  \n",
       "3       Partly cloudy      11.2        44     50  \n",
       "4       Partly cloudy       4.3        39     50  "
      ],
      "text/html": [
       "<div>\n",
       "<style scoped>\n",
       "    .dataframe tbody tr th:only-of-type {\n",
       "        vertical-align: middle;\n",
       "    }\n",
       "\n",
       "    .dataframe tbody tr th {\n",
       "        vertical-align: top;\n",
       "    }\n",
       "\n",
       "    .dataframe thead th {\n",
       "        text-align: right;\n",
       "    }\n",
       "</style>\n",
       "<table border=\"1\" class=\"dataframe\">\n",
       "  <thead>\n",
       "    <tr style=\"text-align: right;\">\n",
       "      <th></th>\n",
       "      <th>city</th>\n",
       "      <th>region</th>\n",
       "      <th>country</th>\n",
       "      <th>local_time</th>\n",
       "      <th>temp_c</th>\n",
       "      <th>temp_f</th>\n",
       "      <th>condition</th>\n",
       "      <th>wind_kph</th>\n",
       "      <th>humidity</th>\n",
       "      <th>cloud</th>\n",
       "    </tr>\n",
       "  </thead>\n",
       "  <tbody>\n",
       "    <tr>\n",
       "      <th>0</th>\n",
       "      <td>Nairobi</td>\n",
       "      <td>Nairobi Area</td>\n",
       "      <td>Kenya</td>\n",
       "      <td>2025-06-11 16:04</td>\n",
       "      <td>23.2</td>\n",
       "      <td>73.8</td>\n",
       "      <td>Partly cloudy</td>\n",
       "      <td>11.9</td>\n",
       "      <td>47</td>\n",
       "      <td>75</td>\n",
       "    </tr>\n",
       "    <tr>\n",
       "      <th>1</th>\n",
       "      <td>Mombasa</td>\n",
       "      <td>Coast</td>\n",
       "      <td>Kenya</td>\n",
       "      <td>2025-06-11 16:04</td>\n",
       "      <td>28.3</td>\n",
       "      <td>82.9</td>\n",
       "      <td>Partly cloudy</td>\n",
       "      <td>27.4</td>\n",
       "      <td>70</td>\n",
       "      <td>75</td>\n",
       "    </tr>\n",
       "    <tr>\n",
       "      <th>2</th>\n",
       "      <td>Kisumu</td>\n",
       "      <td>Nyanza</td>\n",
       "      <td>Kenya</td>\n",
       "      <td>2025-06-11 16:05</td>\n",
       "      <td>27.0</td>\n",
       "      <td>80.6</td>\n",
       "      <td>Patchy rain nearby</td>\n",
       "      <td>9.4</td>\n",
       "      <td>54</td>\n",
       "      <td>25</td>\n",
       "    </tr>\n",
       "    <tr>\n",
       "      <th>3</th>\n",
       "      <td>Nakuru</td>\n",
       "      <td>Rift Valley</td>\n",
       "      <td>Kenya</td>\n",
       "      <td>2025-06-11 16:04</td>\n",
       "      <td>25.2</td>\n",
       "      <td>77.4</td>\n",
       "      <td>Partly cloudy</td>\n",
       "      <td>11.2</td>\n",
       "      <td>44</td>\n",
       "      <td>50</td>\n",
       "    </tr>\n",
       "    <tr>\n",
       "      <th>4</th>\n",
       "      <td>Eldoret</td>\n",
       "      <td>Rift Valley</td>\n",
       "      <td>Kenya</td>\n",
       "      <td>2025-06-11 16:04</td>\n",
       "      <td>24.3</td>\n",
       "      <td>75.7</td>\n",
       "      <td>Partly cloudy</td>\n",
       "      <td>4.3</td>\n",
       "      <td>39</td>\n",
       "      <td>50</td>\n",
       "    </tr>\n",
       "  </tbody>\n",
       "</table>\n",
       "</div>"
      ]
     },
     "execution_count": 38,
     "metadata": {},
     "output_type": "execute_result"
    }
   ],
   "execution_count": 38
  }
 ],
 "metadata": {
  "kernelspec": {
   "display_name": "Python 3",
   "language": "python",
   "name": "python3"
  },
  "language_info": {
   "codemirror_mode": {
    "name": "ipython",
    "version": 2
   },
   "file_extension": ".py",
   "mimetype": "text/x-python",
   "name": "python",
   "nbconvert_exporter": "python",
   "pygments_lexer": "ipython2",
   "version": "2.7.6"
  }
 },
 "nbformat": 4,
 "nbformat_minor": 5
}

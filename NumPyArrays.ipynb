{
 "cells": [
  {
   "metadata": {
    "ExecuteTime": {
     "end_time": "2025-06-09T09:44:44.787438Z",
     "start_time": "2025-06-09T09:44:44.783699Z"
    }
   },
   "cell_type": "code",
   "source": "defined_list=[]",
   "id": "eb3918fb3f7fe5b4",
   "outputs": [],
   "execution_count": 6
  },
  {
   "metadata": {
    "ExecuteTime": {
     "end_time": "2025-06-09T09:47:31.431677Z",
     "start_time": "2025-06-09T09:47:31.428338Z"
    }
   },
   "cell_type": "code",
   "source": "defined_list=[1,2,3]",
   "id": "2609d4b0f93d84e3",
   "outputs": [],
   "execution_count": 9
  },
  {
   "metadata": {
    "ExecuteTime": {
     "end_time": "2025-06-09T09:49:21.840481Z",
     "start_time": "2025-06-09T09:49:21.837083Z"
    }
   },
   "cell_type": "code",
   "source": "import numpy as np",
   "id": "2cde358f191f3179",
   "outputs": [],
   "execution_count": 14
  },
  {
   "metadata": {
    "ExecuteTime": {
     "end_time": "2025-06-09T09:47:34.826431Z",
     "start_time": "2025-06-09T09:47:34.821626Z"
    }
   },
   "cell_type": "code",
   "source": "np.array(defined_list)",
   "id": "4a97a4f041596d7e",
   "outputs": [
    {
     "data": {
      "text/plain": [
       "array([1, 2, 3])"
      ]
     },
     "execution_count": 11,
     "metadata": {},
     "output_type": "execute_result"
    }
   ],
   "execution_count": 11
  },
  {
   "metadata": {
    "ExecuteTime": {
     "end_time": "2025-06-09T09:48:22.719801Z",
     "start_time": "2025-06-09T09:48:22.712368Z"
    }
   },
   "cell_type": "code",
   "source": "np.arange(0,10,2)",
   "id": "a23888e847ec413d",
   "outputs": [
    {
     "data": {
      "text/plain": [
       "array([0, 2, 4, 6, 8])"
      ]
     },
     "execution_count": 13,
     "metadata": {},
     "output_type": "execute_result"
    }
   ],
   "execution_count": 13
  }
 ],
 "metadata": {
  "kernelspec": {
   "display_name": "Python 3",
   "language": "python",
   "name": "python3"
  },
  "language_info": {
   "codemirror_mode": {
    "name": "ipython",
    "version": 2
   },
   "file_extension": ".py",
   "mimetype": "text/x-python",
   "name": "python",
   "nbconvert_exporter": "python",
   "pygments_lexer": "ipython2",
   "version": "2.7.6"
  }
 },
 "nbformat": 4,
 "nbformat_minor": 5
}

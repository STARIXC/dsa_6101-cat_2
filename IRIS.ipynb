{
 "cells": [
  {
   "cell_type": "code",
   "id": "initial_id",
   "metadata": {
    "collapsed": true,
    "ExecuteTime": {
     "end_time": "2025-06-11T14:15:39.089607Z",
     "start_time": "2025-06-11T14:15:39.086595Z"
    }
   },
   "source": "import pandas as pd\n",
   "outputs": [],
   "execution_count": 5
  },
  {
   "metadata": {
    "ExecuteTime": {
     "end_time": "2025-06-11T14:15:39.109952Z",
     "start_time": "2025-06-11T14:15:39.105073Z"
    }
   },
   "cell_type": "code",
   "source": "iris_df = pd.read_csv('iris.csv')",
   "id": "1a08c969bc8b3eb5",
   "outputs": [],
   "execution_count": 6
  },
  {
   "metadata": {
    "ExecuteTime": {
     "end_time": "2025-06-11T14:15:39.137717Z",
     "start_time": "2025-06-11T14:15:39.130948Z"
    }
   },
   "cell_type": "code",
   "source": [
    "#check for missing value\n",
    "iris_df.isnull().sum()"
   ],
   "id": "87f24e48d2048e8d",
   "outputs": [
    {
     "data": {
      "text/plain": [
       "sepal_length    0\n",
       "sepal_width     0\n",
       "petal_length    0\n",
       "petal_width     0\n",
       "species         0\n",
       "dtype: int64"
      ]
     },
     "execution_count": 7,
     "metadata": {},
     "output_type": "execute_result"
    }
   ],
   "execution_count": 7
  },
  {
   "metadata": {
    "ExecuteTime": {
     "end_time": "2025-06-11T14:20:05.887823Z",
     "start_time": "2025-06-11T14:20:04.812929Z"
    }
   },
   "cell_type": "code",
   "source": [
    "from sklearn.model_selection import train_test_split\n",
    "# X_train,X_test,y_train,y_test = train_test_split(iris_df)"
   ],
   "id": "bc873e34ec8874c7",
   "outputs": [],
   "execution_count": 8
  }
 ],
 "metadata": {
  "kernelspec": {
   "display_name": "Python 3",
   "language": "python",
   "name": "python3"
  },
  "language_info": {
   "codemirror_mode": {
    "name": "ipython",
    "version": 2
   },
   "file_extension": ".py",
   "mimetype": "text/x-python",
   "name": "python",
   "nbconvert_exporter": "python",
   "pygments_lexer": "ipython2",
   "version": "2.7.6"
  }
 },
 "nbformat": 4,
 "nbformat_minor": 5
}

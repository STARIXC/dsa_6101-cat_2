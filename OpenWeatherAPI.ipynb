{
 "cells": [
  {
   "cell_type": "code",
   "id": "initial_id",
   "metadata": {
    "collapsed": true,
    "ExecuteTime": {
     "end_time": "2025-06-11T17:13:16.833426Z",
     "start_time": "2025-06-11T17:13:16.827956Z"
    }
   },
   "source": [
    "import requests\n",
    "import pandas as pd\n",
    "import time\n",
    "\n",
    "API_KEY = '9103635b57deb827ae5d52f492cfdc68'\n",
    "BASE_URL = 'http://api.openweathermap.org/data/2.5/weather?'\n",
    "# url = 'https://api.openweathermap.org/data/3.0/onecall?lat={-0.2856}&lon={36.0757}&appid={186ce27344ed40c9a4a164814250806}'\n",
    "# url = 'https://api.weatherapi.com/v1/current.json?key=186ce27344ed40c9a4a164814250806&q=Nakuru&aqi=no'\n",
    "# response = requests.get(url)\n",
    "kenyan_cities = [\"Nairobi\", \"Mombasa\", \"Kisumu\", \"Nakuru\", \"Eldoret\"]\n"
   ],
   "outputs": [],
   "execution_count": 12
  },
  {
   "metadata": {
    "ExecuteTime": {
     "end_time": "2025-06-11T17:13:16.854008Z",
     "start_time": "2025-06-11T17:13:16.851199Z"
    }
   },
   "cell_type": "code",
   "source": [
    "# Initialize list to store weather data\n",
    "weather_data = []"
   ],
   "id": "684fdb921e52f391",
   "outputs": [],
   "execution_count": 13
  },
  {
   "metadata": {
    "ExecuteTime": {
     "end_time": "2025-06-11T17:13:16.898249Z",
     "start_time": "2025-06-11T17:13:16.892704Z"
    }
   },
   "cell_type": "code",
   "source": "print(weather_data)",
   "id": "8ed4d8b03b31808e",
   "outputs": [
    {
     "name": "stdout",
     "output_type": "stream",
     "text": [
      "[]\n"
     ]
    }
   ],
   "execution_count": 14
  },
  {
   "metadata": {
    "ExecuteTime": {
     "end_time": "2025-06-11T17:13:16.952997Z",
     "start_time": "2025-06-11T17:13:16.948350Z"
    }
   },
   "cell_type": "code",
   "source": [
    "import pandas as pd\n",
    "kenyan_cities"
   ],
   "id": "f012024fe5fe7872",
   "outputs": [
    {
     "data": {
      "text/plain": [
       "['Nairobi', 'Mombasa', 'Kisumu', 'Nakuru', 'Eldoret']"
      ]
     },
     "execution_count": 15,
     "metadata": {},
     "output_type": "execute_result"
    }
   ],
   "execution_count": 15
  },
  {
   "metadata": {
    "ExecuteTime": {
     "end_time": "2025-06-11T17:13:25.288679Z",
     "start_time": "2025-06-11T17:13:17.037195Z"
    }
   },
   "cell_type": "code",
   "source": [
    "for city in kenyan_cities:\n",
    "   params = {\n",
    "       'q': city,\n",
    "       'appid': API_KEY,\n",
    "       'units': 'metric'\n",
    "   }\n",
    "   response = requests.get(BASE_URL, params=params)\n",
    "\n",
    "   if response.status_code == 200:\n",
    "       data = response.json()\n",
    "       weather_data.append({\n",
    "           'city': city,\n",
    "           'temperature': data['main']['temp'],\n",
    "           'humidity': data['main']['humidity'],\n",
    "           'pressure': data['main']['pressure'],\n",
    "           'wind_speed': data['wind']['speed']\n",
    "       })\n",
    "   else:\n",
    "       print(f\"Failed to get data for {city}\")\n",
    "\n",
    "   # Pause to avoid hitting API rate limit\n",
    "   time.sleep(1)\n",
    "\n"
   ],
   "id": "a3a4b6a467e2851b",
   "outputs": [],
   "execution_count": 16
  },
  {
   "metadata": {
    "ExecuteTime": {
     "end_time": "2025-06-11T17:13:40.638966Z",
     "start_time": "2025-06-11T17:13:40.632863Z"
    }
   },
   "cell_type": "code",
   "source": "weather_df = pd.DataFrame(weather_data)",
   "id": "81ab6c0b376422da",
   "outputs": [],
   "execution_count": 17
  },
  {
   "metadata": {
    "ExecuteTime": {
     "end_time": "2025-06-11T17:13:50.733406Z",
     "start_time": "2025-06-11T17:13:50.722044Z"
    }
   },
   "cell_type": "code",
   "source": "weather_df",
   "id": "23b7e324937f8e3",
   "outputs": [
    {
     "data": {
      "text/plain": [
       "      city  temperature  humidity  pressure  wind_speed\n",
       "0  Nairobi        18.43        67      1016        3.58\n",
       "1  Mombasa        24.85        84      1015        6.09\n",
       "2   Kisumu        20.62        80      1013        1.47\n",
       "3   Nakuru        15.98        83      1017        3.70\n",
       "4  Eldoret        14.47        84      1015        1.20"
      ],
      "text/html": [
       "<div>\n",
       "<style scoped>\n",
       "    .dataframe tbody tr th:only-of-type {\n",
       "        vertical-align: middle;\n",
       "    }\n",
       "\n",
       "    .dataframe tbody tr th {\n",
       "        vertical-align: top;\n",
       "    }\n",
       "\n",
       "    .dataframe thead th {\n",
       "        text-align: right;\n",
       "    }\n",
       "</style>\n",
       "<table border=\"1\" class=\"dataframe\">\n",
       "  <thead>\n",
       "    <tr style=\"text-align: right;\">\n",
       "      <th></th>\n",
       "      <th>city</th>\n",
       "      <th>temperature</th>\n",
       "      <th>humidity</th>\n",
       "      <th>pressure</th>\n",
       "      <th>wind_speed</th>\n",
       "    </tr>\n",
       "  </thead>\n",
       "  <tbody>\n",
       "    <tr>\n",
       "      <th>0</th>\n",
       "      <td>Nairobi</td>\n",
       "      <td>18.43</td>\n",
       "      <td>67</td>\n",
       "      <td>1016</td>\n",
       "      <td>3.58</td>\n",
       "    </tr>\n",
       "    <tr>\n",
       "      <th>1</th>\n",
       "      <td>Mombasa</td>\n",
       "      <td>24.85</td>\n",
       "      <td>84</td>\n",
       "      <td>1015</td>\n",
       "      <td>6.09</td>\n",
       "    </tr>\n",
       "    <tr>\n",
       "      <th>2</th>\n",
       "      <td>Kisumu</td>\n",
       "      <td>20.62</td>\n",
       "      <td>80</td>\n",
       "      <td>1013</td>\n",
       "      <td>1.47</td>\n",
       "    </tr>\n",
       "    <tr>\n",
       "      <th>3</th>\n",
       "      <td>Nakuru</td>\n",
       "      <td>15.98</td>\n",
       "      <td>83</td>\n",
       "      <td>1017</td>\n",
       "      <td>3.70</td>\n",
       "    </tr>\n",
       "    <tr>\n",
       "      <th>4</th>\n",
       "      <td>Eldoret</td>\n",
       "      <td>14.47</td>\n",
       "      <td>84</td>\n",
       "      <td>1015</td>\n",
       "      <td>1.20</td>\n",
       "    </tr>\n",
       "  </tbody>\n",
       "</table>\n",
       "</div>"
      ]
     },
     "execution_count": 18,
     "metadata": {},
     "output_type": "execute_result"
    }
   ],
   "execution_count": 18
  }
 ],
 "metadata": {
  "kernelspec": {
   "display_name": "Python 3",
   "language": "python",
   "name": "python3"
  },
  "language_info": {
   "codemirror_mode": {
    "name": "ipython",
    "version": 2
   },
   "file_extension": ".py",
   "mimetype": "text/x-python",
   "name": "python",
   "nbconvert_exporter": "python",
   "pygments_lexer": "ipython2",
   "version": "2.7.6"
  }
 },
 "nbformat": 4,
 "nbformat_minor": 5
}

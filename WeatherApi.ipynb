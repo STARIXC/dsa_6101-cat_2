{
 "cells": [
  {
   "cell_type": "code",
   "id": "initial_id",
   "metadata": {
    "collapsed": true,
    "ExecuteTime": {
     "end_time": "2025-06-08T16:31:26.185608Z",
     "start_time": "2025-06-08T16:31:25.663272Z"
    }
   },
   "source": [
    "\n",
    "import requests\n",
    "response =requests.get(\"https://randomuser.me/api/?gender=female\")\n"
   ],
   "outputs": [],
   "execution_count": 13
  },
  {
   "metadata": {
    "ExecuteTime": {
     "end_time": "2025-06-08T16:31:27.208652Z",
     "start_time": "2025-06-08T16:31:27.204781Z"
    }
   },
   "cell_type": "code",
   "source": "_data=response.json()",
   "id": "cfa60a21c60b5fe1",
   "outputs": [],
   "execution_count": 14
  },
  {
   "metadata": {
    "ExecuteTime": {
     "end_time": "2025-06-08T16:31:47.041923Z",
     "start_time": "2025-06-08T16:31:47.037513Z"
    }
   },
   "cell_type": "code",
   "source": "print(_data)",
   "id": "f1b7eb816b12352c",
   "outputs": [
    {
     "name": "stdout",
     "output_type": "stream",
     "text": [
      "{'results': [{'gender': 'female', 'name': {'title': 'Miss', 'first': 'Purificación', 'last': 'Serrano'}, 'location': {'street': {'number': 7898, 'name': 'Calle de Arganzuela'}, 'city': 'Logroño', 'state': 'País Vasco', 'country': 'Spain', 'postcode': 71520, 'coordinates': {'latitude': '-33.4788', 'longitude': '107.6132'}, 'timezone': {'offset': '+3:30', 'description': 'Tehran'}}, 'email': 'purificacion.serrano@example.com', 'login': {'uuid': 'e19c47ea-1a00-4448-8068-c440f0a578d1', 'username': 'happyleopard820', 'password': '3232', 'salt': 'ePabrtGa', 'md5': '6be6549d7865a474f7e5248e538522cf', 'sha1': '2983d1e7b42ab5b097db51f1096b5bfe0d908dca', 'sha256': '63c044fb7e0585825dcb6cd90f18484f2436a1b8b449d4bc7a4064c6bcaec98b'}, 'dob': {'date': '1959-09-12T21:03:48.913Z', 'age': 65}, 'registered': {'date': '2007-11-27T12:12:59.641Z', 'age': 17}, 'phone': '990-634-581', 'cell': '631-684-119', 'id': {'name': 'DNI', 'value': '83623729-P'}, 'picture': {'large': 'https://randomuser.me/api/portraits/women/2.jpg', 'medium': 'https://randomuser.me/api/portraits/med/women/2.jpg', 'thumbnail': 'https://randomuser.me/api/portraits/thumb/women/2.jpg'}, 'nat': 'ES'}], 'info': {'seed': '57e017074375d38b', 'results': 1, 'page': 1, 'version': '1.4'}}\n"
     ]
    }
   ],
   "execution_count": 17
  },
  {
   "metadata": {
    "ExecuteTime": {
     "end_time": "2025-06-08T16:32:25.851446Z",
     "start_time": "2025-06-08T16:32:25.848223Z"
    }
   },
   "cell_type": "code",
   "source": "print(_data[\"results\"][0])",
   "id": "7066be2ab8ed2131",
   "outputs": [
    {
     "name": "stdout",
     "output_type": "stream",
     "text": [
      "{'gender': 'female', 'name': {'title': 'Miss', 'first': 'Purificación', 'last': 'Serrano'}, 'location': {'street': {'number': 7898, 'name': 'Calle de Arganzuela'}, 'city': 'Logroño', 'state': 'País Vasco', 'country': 'Spain', 'postcode': 71520, 'coordinates': {'latitude': '-33.4788', 'longitude': '107.6132'}, 'timezone': {'offset': '+3:30', 'description': 'Tehran'}}, 'email': 'purificacion.serrano@example.com', 'login': {'uuid': 'e19c47ea-1a00-4448-8068-c440f0a578d1', 'username': 'happyleopard820', 'password': '3232', 'salt': 'ePabrtGa', 'md5': '6be6549d7865a474f7e5248e538522cf', 'sha1': '2983d1e7b42ab5b097db51f1096b5bfe0d908dca', 'sha256': '63c044fb7e0585825dcb6cd90f18484f2436a1b8b449d4bc7a4064c6bcaec98b'}, 'dob': {'date': '1959-09-12T21:03:48.913Z', 'age': 65}, 'registered': {'date': '2007-11-27T12:12:59.641Z', 'age': 17}, 'phone': '990-634-581', 'cell': '631-684-119', 'id': {'name': 'DNI', 'value': '83623729-P'}, 'picture': {'large': 'https://randomuser.me/api/portraits/women/2.jpg', 'medium': 'https://randomuser.me/api/portraits/med/women/2.jpg', 'thumbnail': 'https://randomuser.me/api/portraits/thumb/women/2.jpg'}, 'nat': 'ES'}\n"
     ]
    }
   ],
   "execution_count": 20
  },
  {
   "metadata": {
    "ExecuteTime": {
     "end_time": "2025-06-08T16:36:16.736767Z",
     "start_time": "2025-06-08T16:36:16.733269Z"
    }
   },
   "cell_type": "code",
   "source": [
    "print(_data[\"results\"][0][\"name\"])\n",
    "print(_data[\"results\"][0][\"dob\"])"
   ],
   "id": "240c92d3bfcb9a55",
   "outputs": [
    {
     "name": "stdout",
     "output_type": "stream",
     "text": [
      "{'title': 'Miss', 'first': 'Purificación', 'last': 'Serrano'}\n",
      "{'date': '1959-09-12T21:03:48.913Z', 'age': 65}\n"
     ]
    }
   ],
   "execution_count": 24
  }
 ],
 "metadata": {
  "kernelspec": {
   "display_name": "Python 3",
   "language": "python",
   "name": "python3"
  },
  "language_info": {
   "codemirror_mode": {
    "name": "ipython",
    "version": 2
   },
   "file_extension": ".py",
   "mimetype": "text/x-python",
   "name": "python",
   "nbconvert_exporter": "python",
   "pygments_lexer": "ipython2",
   "version": "2.7.6"
  }
 },
 "nbformat": 4,
 "nbformat_minor": 5
}
